{
 "cells": [
  {
   "cell_type": "code",
   "execution_count": null,
   "metadata": {},
   "outputs": [],
   "source": [
    "import sys\n",
    "import os\n",
    "\n",
    "# Addition of the scripts file Ajouter le dossier `scripts/` au chemin d'accès Python\n",
    "sys.path.append(os.path.abspath(\"scripts\"))\n",
    "\n",
    "# Import custom functions\n",
    "from scripts.data_processing import load_data, preprocess_data\n",
    "from scripts.eda import exploratory_data_analysis\n",
    "from scripts.modelling import train_models\n",
    "from scripts.evaluation import evaluate_models, predict_probabilities, robustness_check\n",
    "\n",
    "# Load data\n",
    "file_path = \"/Users/camillelemaignen/Project_SIA_Driving_Test/data/DataDSVA_Python.xlsm\"\n",
    "df = load_data(file_path)\n",
    "\n",
    "#Data cleaning and preprocessing\n",
    "df_filtered = preprocess_data(df)"
   ]
  },
  {
   "cell_type": "code",
   "execution_count": null,
   "metadata": {},
   "outputs": [],
   "source": [
    "# Exploratory Data Analysis\n",
    "exploratory_data_analysis(df)"
   ]
  },
  {
   "cell_type": "code",
   "execution_count": null,
   "metadata": {},
   "outputs": [],
   "source": [
    "# Model training\n",
    "logit_model, probit_model = train_models(df_filtered)"
   ]
  },
  {
   "cell_type": "code",
   "execution_count": null,
   "metadata": {},
   "outputs": [],
   "source": [
    "# Model evaluation and robustness\n",
    "evaluate_models(logit_model, probit_model, df_filtered)\n",
    "robustness_check(df_filtered, logit_model)"
   ]
  },
  {
   "cell_type": "code",
   "execution_count": null,
   "metadata": {},
   "outputs": [],
   "source": [
    "# Make predictions\n",
    "predict_probabilities(logit_model)"
   ]
  }
 ],
 "metadata": {
  "kernelspec": {
   "display_name": "Python 3",
   "language": "python",
   "name": "python3"
  },
  "language_info": {
   "name": "python",
   "version": "3.13.2"
  }
 },
 "nbformat": 4,
 "nbformat_minor": 2
}
